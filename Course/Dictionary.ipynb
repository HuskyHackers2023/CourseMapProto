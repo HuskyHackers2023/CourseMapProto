{
 "cells": [
  {
   "cell_type": "code",
   "execution_count": 316,
   "id": "dcee36c2",
   "metadata": {},
   "outputs": [],
   "source": [
    "import pandas as pd\n",
    "import numpy as np\n",
    "import re as rg"
   ]
  },
  {
   "cell_type": "code",
   "execution_count": 2,
   "id": "6d3b6b88",
   "metadata": {},
   "outputs": [],
   "source": [
    "program = dict()\n",
    "program['InformationSystem'] = dict()\n",
    "program['ComputerScience'] = dict()"
   ]
  },
  {
   "cell_type": "code",
   "execution_count": 3,
   "id": "788d9dcf",
   "metadata": {},
   "outputs": [
    {
     "data": {
      "text/plain": [
       "{'InformationSystem': {}, 'ComputerScience': {}}"
      ]
     },
     "execution_count": 3,
     "metadata": {},
     "output_type": "execute_result"
    }
   ],
   "source": [
    "program"
   ]
  },
  {
   "cell_type": "code",
   "execution_count": 360,
   "id": "e8e8fd2a",
   "metadata": {},
   "outputs": [],
   "source": [
    "df = pd.read_csv('Dashboard/data/CourseDetails.csv')"
   ]
  },
  {
   "cell_type": "code",
   "execution_count": 361,
   "id": "c2f95788",
   "metadata": {},
   "outputs": [
    {
     "data": {
      "text/html": [
       "<div>\n",
       "<style scoped>\n",
       "    .dataframe tbody tr th:only-of-type {\n",
       "        vertical-align: middle;\n",
       "    }\n",
       "\n",
       "    .dataframe tbody tr th {\n",
       "        vertical-align: top;\n",
       "    }\n",
       "\n",
       "    .dataframe thead th {\n",
       "        text-align: right;\n",
       "    }\n",
       "</style>\n",
       "<table border=\"1\" class=\"dataframe\">\n",
       "  <thead>\n",
       "    <tr style=\"text-align: right;\">\n",
       "      <th></th>\n",
       "      <th>CourseID</th>\n",
       "      <th>Course_Name</th>\n",
       "      <th>Description</th>\n",
       "      <th>Prerequisite</th>\n",
       "      <th>Concentration</th>\n",
       "      <th>keywords</th>\n",
       "      <th>keyword_</th>\n",
       "    </tr>\n",
       "  </thead>\n",
       "  <tbody>\n",
       "    <tr>\n",
       "      <th>0</th>\n",
       "      <td>CSYE_6225</td>\n",
       "      <td>Network Structures and Cloud Computing</td>\n",
       "      <td>Offers a practical foundation in cloud computi...</td>\n",
       "      <td>INFO 5100 |  CSYE 6200</td>\n",
       "      <td>Data</td>\n",
       "      <td>['offers', 'practical', 'foundation', 'cloud',...</td>\n",
       "      <td>['network', 'structures', 'cloud', 'computing']</td>\n",
       "    </tr>\n",
       "    <tr>\n",
       "      <th>1</th>\n",
       "      <td>DAMG_7245</td>\n",
       "      <td>Big-Data Systems and Intelligence Analytics</td>\n",
       "      <td>Offers students an opportunity to learn a hand...</td>\n",
       "      <td>INFO 6105</td>\n",
       "      <td>Data</td>\n",
       "      <td>['offers', 'students', 'opportunity', 'learn',...</td>\n",
       "      <td>['big', 'data', 'systems', 'intelligence', 'an...</td>\n",
       "    </tr>\n",
       "    <tr>\n",
       "      <th>2</th>\n",
       "      <td>INFO_7250</td>\n",
       "      <td>Engineering of Big-Data Systems</td>\n",
       "      <td>Services such as Web analytics and intelligent...</td>\n",
       "      <td>INFO 6205 | INFO 7390</td>\n",
       "      <td>Data</td>\n",
       "      <td>['services', 'web', 'analytics', 'intelligent'...</td>\n",
       "      <td>['engineering', 'big', 'data', 'systems']</td>\n",
       "    </tr>\n",
       "    <tr>\n",
       "      <th>3</th>\n",
       "      <td>INFO_7390</td>\n",
       "      <td>Advances in Data Sciences and Architecture</td>\n",
       "      <td>Covers a wide range of skills and responsibili...</td>\n",
       "      <td>INFO 6105</td>\n",
       "      <td>Data</td>\n",
       "      <td>['covers', 'wide', 'range', 'skills', 'respons...</td>\n",
       "      <td>['advances', 'data', 'sciences', 'architecture']</td>\n",
       "    </tr>\n",
       "    <tr>\n",
       "      <th>4</th>\n",
       "      <td>CSYE_7280</td>\n",
       "      <td>User Experience Design and Testing</td>\n",
       "      <td>Introduces user experience concepts while work...</td>\n",
       "      <td>CSYE 6200 | INFO 5100</td>\n",
       "      <td>Intelligence System</td>\n",
       "      <td>['introduces', 'user', 'experience', 'concepts...</td>\n",
       "      <td>['user', 'experience', 'design', 'testing']</td>\n",
       "    </tr>\n",
       "    <tr>\n",
       "      <th>5</th>\n",
       "      <td>INFO_7375</td>\n",
       "      <td>Special Topics in Artificial Intelligence Engi...</td>\n",
       "      <td>Covers recent advances in neural nets and deep...</td>\n",
       "      <td>INFO 6205</td>\n",
       "      <td>Intelligence System</td>\n",
       "      <td>['covers', 'recent', 'advances', 'neural', 'ne...</td>\n",
       "      <td>['special', 'topics', 'artificial', 'intellige...</td>\n",
       "    </tr>\n",
       "    <tr>\n",
       "      <th>6</th>\n",
       "      <td>INFO_7610</td>\n",
       "      <td>Special Topics in Natural Language Engineering...</td>\n",
       "      <td>Covers the latest techniques in natural langua...</td>\n",
       "      <td>INFO 6205</td>\n",
       "      <td>Intelligence System</td>\n",
       "      <td>['covers', 'latest', 'techniques', 'natural', ...</td>\n",
       "      <td>['special', 'topics', 'natural', 'language', '...</td>\n",
       "    </tr>\n",
       "    <tr>\n",
       "      <th>7</th>\n",
       "      <td>INFO_6350</td>\n",
       "      <td>Smartphones-Based Web Development</td>\n",
       "      <td>Covers application development for mobile devi...</td>\n",
       "      <td>NaN</td>\n",
       "      <td>User Experience</td>\n",
       "      <td>['covers', 'application', 'development', 'mobi...</td>\n",
       "      <td>['smartphones', 'based', 'web', 'development']</td>\n",
       "    </tr>\n",
       "    <tr>\n",
       "      <th>8</th>\n",
       "      <td>CSYE_7280</td>\n",
       "      <td>User Experience Design and Testing</td>\n",
       "      <td>Introduces user experience concepts while work...</td>\n",
       "      <td>CSYE_6200 | INFO_5100</td>\n",
       "      <td>User Experience</td>\n",
       "      <td>['introduces', 'user', 'experience', 'concepts...</td>\n",
       "      <td>['user', 'experience', 'design', 'testing']</td>\n",
       "    </tr>\n",
       "    <tr>\n",
       "      <th>9</th>\n",
       "      <td>INFO_6150</td>\n",
       "      <td>Web Design and User Experience Engineering</td>\n",
       "      <td>Exposes students to both conceptual and techni...</td>\n",
       "      <td>CSYE_6200 | INFO_5100</td>\n",
       "      <td>User Experience</td>\n",
       "      <td>['exposes', 'students', 'conceptual', 'technic...</td>\n",
       "      <td>['web', 'design', 'user', 'experience', 'engin...</td>\n",
       "    </tr>\n",
       "    <tr>\n",
       "      <th>10</th>\n",
       "      <td>INFO_6245</td>\n",
       "      <td>Planning and Managing Information Systems Deve...</td>\n",
       "      <td>Provides an overview of the most popular infor...</td>\n",
       "      <td>NaN</td>\n",
       "      <td>User Experience</td>\n",
       "      <td>['provides', 'overview', 'popular', 'informati...</td>\n",
       "      <td>['planning', 'managing', 'information', 'syste...</td>\n",
       "    </tr>\n",
       "    <tr>\n",
       "      <th>11</th>\n",
       "      <td>INFO_7500</td>\n",
       "      <td>Cryptocurrency and Smart Contract Engineering</td>\n",
       "      <td>Seeks to provide a detailed understanding of t...</td>\n",
       "      <td>INFO_5100 | CSYE_6200</td>\n",
       "      <td>Smart Contracts</td>\n",
       "      <td>['seeks', 'provide', 'detailed', 'understandin...</td>\n",
       "      <td>['smart', 'contract', 'engineering']</td>\n",
       "    </tr>\n",
       "    <tr>\n",
       "      <th>12</th>\n",
       "      <td>INFO_7510</td>\n",
       "      <td>Smart Contract Application Engineering and Dev...</td>\n",
       "      <td>Emphasizes the essential coding skills for imp...</td>\n",
       "      <td>INFO_7500</td>\n",
       "      <td>Smart Contracts</td>\n",
       "      <td>['emphasizes', 'essential', 'coding', 'skills'...</td>\n",
       "      <td>['smart', 'contract', 'application', 'engineer...</td>\n",
       "    </tr>\n",
       "    <tr>\n",
       "      <th>13</th>\n",
       "      <td>INFO_7520</td>\n",
       "      <td>Engineering of Advanced Cryptocurrency Systems</td>\n",
       "      <td>Addresses programming and information systems ...</td>\n",
       "      <td>INFO_7500</td>\n",
       "      <td>Smart Contracts</td>\n",
       "      <td>['addresses', 'programming', 'information', 's...</td>\n",
       "      <td>['engineering', 'advanced', 'systems']</td>\n",
       "    </tr>\n",
       "    <tr>\n",
       "      <th>14</th>\n",
       "      <td>INFO_7525</td>\n",
       "      <td>Regulatory Aspects of Smart Contract Automation</td>\n",
       "      <td>Addresses the legal implication of using the b...</td>\n",
       "      <td>NaN</td>\n",
       "      <td>Smart Contracts</td>\n",
       "      <td>['addresses', 'legal', 'implication', 'using',...</td>\n",
       "      <td>['regulatory', 'aspects', 'smart', 'contract',...</td>\n",
       "    </tr>\n",
       "    <tr>\n",
       "      <th>15</th>\n",
       "      <td>INFO_7535</td>\n",
       "      <td>Digital Smart Contracts Product Innovations</td>\n",
       "      <td>Addresses the issue of how blockchain technolo...</td>\n",
       "      <td>NaN</td>\n",
       "      <td>Smart Contracts</td>\n",
       "      <td>['addresses', 'issue', 'technology', 'creates'...</td>\n",
       "      <td>['digital', 'smart', 'contracts', 'product', '...</td>\n",
       "    </tr>\n",
       "    <tr>\n",
       "      <th>16</th>\n",
       "      <td>INFO_5100</td>\n",
       "      <td>Application Engineering and Development</td>\n",
       "      <td>Takes students in a step-by-step manner throug...</td>\n",
       "      <td>NaN</td>\n",
       "      <td>General</td>\n",
       "      <td>['takes', 'students', 'step', 'step', 'manner'...</td>\n",
       "      <td>['application', 'engineering', 'development']</td>\n",
       "    </tr>\n",
       "    <tr>\n",
       "      <th>17</th>\n",
       "      <td>INFO_6205</td>\n",
       "      <td>Program Structure and Algorithms.</td>\n",
       "      <td>Presents data structures and related algorithm...</td>\n",
       "      <td>NaN</td>\n",
       "      <td>General</td>\n",
       "      <td>['presents', 'data', 'structures', 'related', ...</td>\n",
       "      <td>['program', 'structure', 'algorithms']</td>\n",
       "    </tr>\n",
       "    <tr>\n",
       "      <th>18</th>\n",
       "      <td>INFO 6105</td>\n",
       "      <td>Data Science Engineering Methods and Tools</td>\n",
       "      <td>Introduces the fundamental techniques for mach...</td>\n",
       "      <td>NaN</td>\n",
       "      <td>General</td>\n",
       "      <td>['introduces', 'fundamental', 'techniques', 'm...</td>\n",
       "      <td>['data', 'science', 'engineering', 'methods', ...</td>\n",
       "    </tr>\n",
       "  </tbody>\n",
       "</table>\n",
       "</div>"
      ],
      "text/plain": [
       "     CourseID                                        Course_Name  \\\n",
       "0   CSYE_6225             Network Structures and Cloud Computing   \n",
       "1   DAMG_7245        Big-Data Systems and Intelligence Analytics   \n",
       "2   INFO_7250                    Engineering of Big-Data Systems   \n",
       "3   INFO_7390         Advances in Data Sciences and Architecture   \n",
       "4   CSYE_7280                 User Experience Design and Testing   \n",
       "5   INFO_7375  Special Topics in Artificial Intelligence Engi...   \n",
       "6   INFO_7610  Special Topics in Natural Language Engineering...   \n",
       "7   INFO_6350                  Smartphones-Based Web Development   \n",
       "8   CSYE_7280                 User Experience Design and Testing   \n",
       "9   INFO_6150         Web Design and User Experience Engineering   \n",
       "10  INFO_6245  Planning and Managing Information Systems Deve...   \n",
       "11  INFO_7500      Cryptocurrency and Smart Contract Engineering   \n",
       "12  INFO_7510  Smart Contract Application Engineering and Dev...   \n",
       "13  INFO_7520     Engineering of Advanced Cryptocurrency Systems   \n",
       "14  INFO_7525    Regulatory Aspects of Smart Contract Automation   \n",
       "15  INFO_7535        Digital Smart Contracts Product Innovations   \n",
       "16  INFO_5100            Application Engineering and Development   \n",
       "17  INFO_6205                  Program Structure and Algorithms.   \n",
       "18  INFO 6105         Data Science Engineering Methods and Tools   \n",
       "\n",
       "                                          Description  \\\n",
       "0   Offers a practical foundation in cloud computi...   \n",
       "1   Offers students an opportunity to learn a hand...   \n",
       "2   Services such as Web analytics and intelligent...   \n",
       "3   Covers a wide range of skills and responsibili...   \n",
       "4   Introduces user experience concepts while work...   \n",
       "5   Covers recent advances in neural nets and deep...   \n",
       "6   Covers the latest techniques in natural langua...   \n",
       "7   Covers application development for mobile devi...   \n",
       "8   Introduces user experience concepts while work...   \n",
       "9   Exposes students to both conceptual and techni...   \n",
       "10  Provides an overview of the most popular infor...   \n",
       "11  Seeks to provide a detailed understanding of t...   \n",
       "12  Emphasizes the essential coding skills for imp...   \n",
       "13  Addresses programming and information systems ...   \n",
       "14  Addresses the legal implication of using the b...   \n",
       "15  Addresses the issue of how blockchain technolo...   \n",
       "16  Takes students in a step-by-step manner throug...   \n",
       "17  Presents data structures and related algorithm...   \n",
       "18  Introduces the fundamental techniques for mach...   \n",
       "\n",
       "               Prerequisite        Concentration  \\\n",
       "0   INFO 5100 |  CSYE 6200                  Data   \n",
       "1                 INFO 6105                 Data   \n",
       "2     INFO 6205 | INFO 7390                 Data   \n",
       "3                 INFO 6105                 Data   \n",
       "4    CSYE 6200 | INFO 5100   Intelligence System   \n",
       "5                 INFO 6205  Intelligence System   \n",
       "6                 INFO 6205  Intelligence System   \n",
       "7                       NaN      User Experience   \n",
       "8     CSYE_6200 | INFO_5100      User Experience   \n",
       "9     CSYE_6200 | INFO_5100      User Experience   \n",
       "10                      NaN      User Experience   \n",
       "11    INFO_5100 | CSYE_6200      Smart Contracts   \n",
       "12                INFO_7500     Smart Contracts    \n",
       "13                INFO_7500     Smart Contracts    \n",
       "14                      NaN     Smart Contracts    \n",
       "15                      NaN      Smart Contracts   \n",
       "16                      NaN              General   \n",
       "17                      NaN              General   \n",
       "18                      NaN              General   \n",
       "\n",
       "                                             keywords  \\\n",
       "0   ['offers', 'practical', 'foundation', 'cloud',...   \n",
       "1   ['offers', 'students', 'opportunity', 'learn',...   \n",
       "2   ['services', 'web', 'analytics', 'intelligent'...   \n",
       "3   ['covers', 'wide', 'range', 'skills', 'respons...   \n",
       "4   ['introduces', 'user', 'experience', 'concepts...   \n",
       "5   ['covers', 'recent', 'advances', 'neural', 'ne...   \n",
       "6   ['covers', 'latest', 'techniques', 'natural', ...   \n",
       "7   ['covers', 'application', 'development', 'mobi...   \n",
       "8   ['introduces', 'user', 'experience', 'concepts...   \n",
       "9   ['exposes', 'students', 'conceptual', 'technic...   \n",
       "10  ['provides', 'overview', 'popular', 'informati...   \n",
       "11  ['seeks', 'provide', 'detailed', 'understandin...   \n",
       "12  ['emphasizes', 'essential', 'coding', 'skills'...   \n",
       "13  ['addresses', 'programming', 'information', 's...   \n",
       "14  ['addresses', 'legal', 'implication', 'using',...   \n",
       "15  ['addresses', 'issue', 'technology', 'creates'...   \n",
       "16  ['takes', 'students', 'step', 'step', 'manner'...   \n",
       "17  ['presents', 'data', 'structures', 'related', ...   \n",
       "18  ['introduces', 'fundamental', 'techniques', 'm...   \n",
       "\n",
       "                                             keyword_  \n",
       "0     ['network', 'structures', 'cloud', 'computing']  \n",
       "1   ['big', 'data', 'systems', 'intelligence', 'an...  \n",
       "2           ['engineering', 'big', 'data', 'systems']  \n",
       "3    ['advances', 'data', 'sciences', 'architecture']  \n",
       "4         ['user', 'experience', 'design', 'testing']  \n",
       "5   ['special', 'topics', 'artificial', 'intellige...  \n",
       "6   ['special', 'topics', 'natural', 'language', '...  \n",
       "7      ['smartphones', 'based', 'web', 'development']  \n",
       "8         ['user', 'experience', 'design', 'testing']  \n",
       "9   ['web', 'design', 'user', 'experience', 'engin...  \n",
       "10  ['planning', 'managing', 'information', 'syste...  \n",
       "11               ['smart', 'contract', 'engineering']  \n",
       "12  ['smart', 'contract', 'application', 'engineer...  \n",
       "13             ['engineering', 'advanced', 'systems']  \n",
       "14  ['regulatory', 'aspects', 'smart', 'contract',...  \n",
       "15  ['digital', 'smart', 'contracts', 'product', '...  \n",
       "16      ['application', 'engineering', 'development']  \n",
       "17             ['program', 'structure', 'algorithms']  \n",
       "18  ['data', 'science', 'engineering', 'methods', ...  "
      ]
     },
     "execution_count": 361,
     "metadata": {},
     "output_type": "execute_result"
    }
   ],
   "source": [
    "df"
   ]
  },
  {
   "cell_type": "code",
   "execution_count": 7,
   "id": "dc215af6",
   "metadata": {},
   "outputs": [
    {
     "data": {
      "text/plain": [
       "'Offers a practical foundation in cloud computing and hands-on experience with the tools used in cloud computing. Designed as a foundation course for cloud-aware, adept professionals. Focuses on the fundamentals of cloud computing, the principal areas of cloud architectures, cloud security, cloud governance, cloud storage, cloud virtualization, and cloud capacity. Discusses the Internet evolution that led to cloud and how cloud applications revolutionized Web applications.'"
      ]
     },
     "execution_count": 7,
     "metadata": {},
     "output_type": "execute_result"
    }
   ],
   "source": [
    "df.Description[0]"
   ]
  },
  {
   "cell_type": "code",
   "execution_count": 32,
   "id": "d34ae5ca",
   "metadata": {},
   "outputs": [
    {
     "name": "stderr",
     "output_type": "stream",
     "text": [
      "[nltk_data] Downloading package averaged_perceptron_tagger to\n",
      "[nltk_data]     /Users/siuol456/nltk_data...\n",
      "[nltk_data]   Package averaged_perceptron_tagger is already up-to-\n",
      "[nltk_data]       date!\n"
     ]
    }
   ],
   "source": [
    "from nltk.corpus import stopwords\n",
    "nltk.download('averaged_perceptron_tagger')"
   ]
  },
  {
   "cell_type": "code",
   "execution_count": 341,
   "id": "7c4576f9",
   "metadata": {},
   "outputs": [],
   "source": [
    "l = stopwords.words('english')\n",
    "l.append('used')\n",
    "l.append('focuses')\n",
    "l.append('often')\n",
    "l.append('accumulo')\n",
    "l.append('blockchain')\n",
    "l.append('Blockchain')\n",
    "l.append('untraceability')\n",
    "l.append('cryptocurrency')\n",
    "l.append('cryptocurrencies')\n",
    "l.append('wireframes')\n",
    "l.append('pmbok')"
   ]
  },
  {
   "cell_type": "code",
   "execution_count": 115,
   "id": "b7e7da8b",
   "metadata": {},
   "outputs": [
    {
     "data": {
      "text/plain": [
       "False"
      ]
     },
     "execution_count": 115,
     "metadata": {},
     "output_type": "execute_result"
    }
   ],
   "source": [
    "'accumulo' not in l"
   ]
  },
  {
   "cell_type": "code",
   "execution_count": 370,
   "id": "1bc3a9d5",
   "metadata": {},
   "outputs": [],
   "source": [
    "def pr(s):\n",
    "    re =''\n",
    "    s = s.replace(\"-\", \" \")\n",
    "    s = s.replace(\"/\", \" \")\n",
    "    s = s.replace(\".\", \" \")\n",
    "    s = s.replace(\",\", \" \")\n",
    "    s = rg.sub(rg.compile(\"[^A-Za-z]\"), \" \", s.lower())\n",
    "    for s_ in s.split():\n",
    "        if s_ not in l:\n",
    "            re+=' '+s_\n",
    "    tokens = nltk.word_tokenize(re.lower())\n",
    "    pos_tagged_tokens = nltk.pos_tag(tokens)\n",
    "    #list_of_verbs = []\n",
    "    #for i in range(len(tokens)):\n",
    "    #    if pos_tagged_tokens[i][1] in ['NN','JJ']:\n",
    "    #        list_of_verbs.append(pos_tagged_tokens[i][0])\n",
    "    return re.lower().split()"
   ]
  },
  {
   "cell_type": "code",
   "execution_count": 127,
   "id": "0e66a1e1",
   "metadata": {},
   "outputs": [],
   "source": [
    "for c in range(len(df)):\n",
    "    re =''\n",
    "    for s in df.Description[c].lower().split():\n",
    "            if s not in stopwords.words('english'):\n",
    "                re+=' '+s\n",
    "    program['InformationSystem'][df.CourseID[c]] = re"
   ]
  },
  {
   "cell_type": "code",
   "execution_count": 371,
   "id": "37c6eca0",
   "metadata": {},
   "outputs": [],
   "source": [
    "df['keyword_'] = df['Course_Name'].apply(lambda x: pr(x))\n",
    "df['keywords'] = df['Description'].apply(lambda x: pr(x))"
   ]
  },
  {
   "cell_type": "code",
   "execution_count": 263,
   "id": "69b7f446",
   "metadata": {},
   "outputs": [],
   "source": [
    "temp = []\n",
    "for i in range(len(df)):\n",
    "    t = df['keyword_'][i]+df['keywords'][i]\n",
    "    temp.append(i)\n",
    "df['k']=temp"
   ]
  },
  {
   "cell_type": "code",
   "execution_count": 184,
   "id": "34f6a05c",
   "metadata": {},
   "outputs": [
    {
     "data": {
      "text/plain": [
       "['issue',\n",
       " 'technology',\n",
       " 'new',\n",
       " 'business',\n",
       " 'technology',\n",
       " 'bitcoin',\n",
       " 'cryptocurrency',\n",
       " 'create',\n",
       " 'value',\n",
       " 'virtual',\n",
       " 'setting',\n",
       " 'real',\n",
       " 'currency',\n",
       " 'financial',\n",
       " 'system',\n",
       " 'business',\n",
       " 'new',\n",
       " 'breed',\n",
       " 'innovative',\n",
       " 'disruptive']"
      ]
     },
     "execution_count": 184,
     "metadata": {},
     "output_type": "execute_result"
    }
   ],
   "source": [
    "df.keywords[16]"
   ]
  },
  {
   "cell_type": "code",
   "execution_count": 354,
   "id": "256769ae",
   "metadata": {},
   "outputs": [],
   "source": [
    "df.to_csv('CourseDetails.csv', index = False)"
   ]
  },
  {
   "cell_type": "code",
   "execution_count": 97,
   "id": "282973a1",
   "metadata": {},
   "outputs": [
    {
     "name": "stdout",
     "output_type": "stream",
     "text": [
      "[==================================================] 100.0% 376.1/376.1MB downloaded\n"
     ]
    }
   ],
   "source": [
    "import gensim.downloader\n",
    "glove_vectors = gensim.downloader.load('glove-wiki-gigaword-300')"
   ]
  },
  {
   "cell_type": "code",
   "execution_count": 355,
   "id": "68b15c99",
   "metadata": {},
   "outputs": [],
   "source": [
    "import gensim.downloader as api\n",
    "word_vectors = api.load(\"glove-wiki-gigaword-300\")"
   ]
  },
  {
   "cell_type": "code",
   "execution_count": 356,
   "id": "aa19c3ac",
   "metadata": {},
   "outputs": [
    {
     "data": {
      "text/plain": [
       "0.09178918"
      ]
     },
     "execution_count": 356,
     "metadata": {},
     "output_type": "execute_result"
    }
   ],
   "source": [
    "word_vectors.similarity('frontend', 'algorithm')"
   ]
  },
  {
   "cell_type": "code",
   "execution_count": 368,
   "id": "22e15ae7",
   "metadata": {},
   "outputs": [],
   "source": [
    "def scoring(st):\n",
    "    c_l =[]\n",
    "    sc = []\n",
    "    for c in df.Course_Name:\n",
    "        s = []\n",
    "        for w in df[df.Course_Name==c]['keywords']:\n",
    "            for w_ in w:\n",
    "                te = glove_vectors.similarity(st, w_)\n",
    "                s.append(te)\n",
    "        for w in df[df.Course_Name==c]['keyword_']:\n",
    "            for w_ in w:\n",
    "                te = word_vectors.similarity(st, w_)\n",
    "                s.append(te)\n",
    "        c_ = 0\n",
    "        for s_ in s:\n",
    "            if s_>0.38:\n",
    "                c_+=1\n",
    "        if c_>1:\n",
    "            c_l.append(c)\n",
    "        \n",
    "    return c_l"
   ]
  },
  {
   "cell_type": "code",
   "execution_count": 372,
   "id": "e7f144ad",
   "metadata": {},
   "outputs": [
    {
     "data": {
      "text/plain": [
       "['Big-Data Systems and Intelligence Analytics',\n",
       " 'Program Structure and Algorithms.',\n",
       " 'Data Science Engineering Methods and Tools']"
      ]
     },
     "execution_count": 372,
     "metadata": {},
     "output_type": "execute_result"
    }
   ],
   "source": [
    "scoring('algorithm')"
   ]
  },
  {
   "cell_type": "markdown",
   "id": "eaa30cd4",
   "metadata": {},
   "source": [
    "***"
   ]
  },
  {
   "cell_type": "markdown",
   "id": "ef2210e5",
   "metadata": {},
   "source": [
    "***"
   ]
  },
  {
   "cell_type": "code",
   "execution_count": 374,
   "id": "fe63337d",
   "metadata": {},
   "outputs": [
    {
     "name": "stdout",
     "output_type": "stream",
     "text": [
      "java\n"
     ]
    },
    {
     "data": {
      "text/plain": [
       "['Smartphones-Based Web Development',\n",
       " 'Web Design and User Experience Engineering',\n",
       " 'Application Engineering and Development']"
      ]
     },
     "execution_count": 374,
     "metadata": {},
     "output_type": "execute_result"
    }
   ],
   "source": [
    "x = input()\n",
    "x = str(x)\n",
    "scoring(x)"
   ]
  },
  {
   "cell_type": "code",
   "execution_count": null,
   "id": "6e659597",
   "metadata": {},
   "outputs": [],
   "source": []
  },
  {
   "cell_type": "code",
   "execution_count": null,
   "id": "d28acc97",
   "metadata": {},
   "outputs": [],
   "source": []
  },
  {
   "cell_type": "code",
   "execution_count": null,
   "id": "d5ac4253",
   "metadata": {},
   "outputs": [],
   "source": []
  },
  {
   "cell_type": "code",
   "execution_count": null,
   "id": "e0429db7",
   "metadata": {},
   "outputs": [],
   "source": []
  },
  {
   "cell_type": "code",
   "execution_count": null,
   "id": "69b83c5e",
   "metadata": {},
   "outputs": [],
   "source": []
  },
  {
   "cell_type": "code",
   "execution_count": null,
   "id": "116309df",
   "metadata": {},
   "outputs": [],
   "source": []
  },
  {
   "cell_type": "code",
   "execution_count": null,
   "id": "98320629",
   "metadata": {},
   "outputs": [],
   "source": []
  }
 ],
 "metadata": {
  "kernelspec": {
   "display_name": "Python 3 (ipykernel)",
   "language": "python",
   "name": "python3"
  },
  "language_info": {
   "codemirror_mode": {
    "name": "ipython",
    "version": 3
   },
   "file_extension": ".py",
   "mimetype": "text/x-python",
   "name": "python",
   "nbconvert_exporter": "python",
   "pygments_lexer": "ipython3",
   "version": "3.9.12"
  }
 },
 "nbformat": 4,
 "nbformat_minor": 5
}
